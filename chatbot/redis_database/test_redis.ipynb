{
 "cells": [
  {
   "cell_type": "code",
   "execution_count": 5,
   "metadata": {},
   "outputs": [],
   "source": [
    "from colorlog import ColoredFormatter\n",
    "import os\n",
    "import requests\n",
    "import logging\n",
    "import sys\n",
    "import redis"
   ]
  },
  {
   "cell_type": "code",
   "execution_count": 6,
   "metadata": {},
   "outputs": [],
   "source": [
    "# ~~~ Configuration du Logger ~~~\n",
    "def get_logger():\n",
    "    global logger\n",
    "    logger = logging.getLogger(__name__)\n",
    "    logger.setLevel(logging.DEBUG)\n",
    "\n",
    "    formatter = ColoredFormatter(\n",
    "        \"%(log_color)s%(levelname)-8s%(reset)s %(message)s\",\n",
    "        log_colors={\n",
    "            \"DEBUG\": \"cyan\",\n",
    "            \"INFO\": \"green\",\n",
    "            \"WARNING\": \"yellow\",\n",
    "            \"ERROR\": \"red\",\n",
    "            \"CRITICAL\": \"red,bg_white\",\n",
    "        },\n",
    "        reset=True,\n",
    "        style=\"%\",\n",
    "    )\n",
    "\n",
    "    console_handler = logging.StreamHandler()\n",
    "    console_handler.setFormatter(formatter)\n",
    "    logger.addHandler(console_handler)\n",
    "\n",
    "    logging.basicConfig(level=logging.INFO, stream=sys.stdout)\n",
    "\n",
    "    return logger\n",
    "\n",
    "logger = get_logger()\n"
   ]
  },
  {
   "cell_type": "code",
   "execution_count": 23,
   "metadata": {},
   "outputs": [],
   "source": [
    "# ~~~ Connection to Redis ~~~\n",
    "def connect_to_redis():\n",
    "    REDIS_HOST = os.getenv(\"REDIS_HOST\",\"redisdb-master.default.svc.cluster.local\")\n",
    "    REDIS_PORT = os.getenv(\"REDIS_PORT\",\"6379\")\n",
    "    REDIS_PASSWORD = os.getenv(\"REDIS_PASSWORD\")\n",
    "    logger.info(f\"Connecting to Redis at host: {REDIS_HOST} on port: {REDIS_PORT}\")\n",
    "    r = redis.Redis(host=REDIS_HOST, port=REDIS_PORT, password=REDIS_PASSWORD, db=0)\n",
    "    return r"
   ]
  },
  {
   "cell_type": "code",
   "execution_count": 24,
   "metadata": {},
   "outputs": [
    {
     "name": "stderr",
     "output_type": "stream",
     "text": [
      "\u001b[32mINFO    \u001b[0m Connecting to redis / host: redisdb-master.default.svc.cluster.local port: 6379\u001b[0m\n",
      "\u001b[32mINFO    \u001b[0m Connecting to redis / host: redisdb-master.default.svc.cluster.local port: 6379\u001b[0m\n"
     ]
    },
    {
     "name": "stdout",
     "output_type": "stream",
     "text": [
      "INFO:__main__:Connecting to redis / host: redisdb-master.default.svc.cluster.local port: 6379\n"
     ]
    }
   ],
   "source": [
    "client_connection = connect_to_redis()"
   ]
  }
 ],
 "metadata": {
  "kernelspec": {
   "display_name": "langchain",
   "language": "python",
   "name": "python3"
  },
  "language_info": {
   "codemirror_mode": {
    "name": "ipython",
    "version": 3
   },
   "file_extension": ".py",
   "mimetype": "text/x-python",
   "name": "python",
   "nbconvert_exporter": "python",
   "pygments_lexer": "ipython3",
   "version": "3.11.8"
  }
 },
 "nbformat": 4,
 "nbformat_minor": 2
}
