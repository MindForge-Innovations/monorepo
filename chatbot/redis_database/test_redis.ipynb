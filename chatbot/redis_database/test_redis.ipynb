{
 "cells": [
  {
   "cell_type": "code",
   "execution_count": 1,
   "metadata": {},
   "outputs": [],
   "source": [
    "from colorlog import ColoredFormatter\n",
    "import os\n",
    "import requests\n",
    "import logging\n",
    "import sys\n",
    "import redis"
   ]
  },
  {
   "cell_type": "code",
   "execution_count": 4,
   "metadata": {},
   "outputs": [],
   "source": [
    "# ~~~ Configuration du Logger ~~~\n",
    "def get_logger():\n",
    "    global logger\n",
    "    logger = logging.getLogger(__name__)\n",
    "    logger.setLevel(logging.DEBUG)\n",
    "\n",
    "    formatter = ColoredFormatter(\n",
    "        \"%(log_color)s%(levelname)-8s%(reset)s %(message)s\",\n",
    "        log_colors={\n",
    "            \"DEBUG\": \"cyan\",\n",
    "            \"INFO\": \"green\",\n",
    "            \"WARNING\": \"yellow\",\n",
    "            \"ERROR\": \"red\",\n",
    "            \"CRITICAL\": \"red,bg_white\",\n",
    "        },\n",
    "        reset=True,\n",
    "        style=\"%\",\n",
    "    )\n",
    "\n",
    "    console_handler = logging.StreamHandler()\n",
    "    console_handler.setFormatter(formatter)\n",
    "    logger.addHandler(console_handler)\n",
    "\n",
    "    logging.basicConfig(level=logging.INFO, stream=sys.stdout)\n",
    "\n",
    "    return logger\n",
    "\n",
    "logger = get_logger()\n"
   ]
  },
  {
   "cell_type": "code",
   "execution_count": 5,
   "metadata": {},
   "outputs": [],
   "source": [
    "# ~~~ Connection to Redis ~~~\n",
    "def connect_to_redis():\n",
    "    REDIS_HOST = os.getenv(\"REDIS_HOST\",\"redisdb-master.default.svc.cluster.local\")\n",
    "    REDIS_HOST = \"127.0.0.1\"\n",
    "    REDIS_PORT = os.getenv(\"REDIS_PORT\",\"6379\")\n",
    "    REDIS_PASSWORD = os.getenv(\"REDIS_PASSWORD\")\n",
    "    REDIS_PASSWORD = \"\"\n",
    "    logger.info(f\"Connecting to Redis at host: {REDIS_HOST} on port: {REDIS_PORT}\")\n",
    "    r = redis.Redis(host=REDIS_HOST, port=REDIS_PORT, password=REDIS_PASSWORD, decode_responses=True, db=0)\n",
    "    return r"
   ]
  },
  {
   "cell_type": "code",
   "execution_count": 6,
   "metadata": {},
   "outputs": [
    {
     "name": "stderr",
     "output_type": "stream",
     "text": [
      "\u001b[32mINFO    \u001b[0m Connecting to Redis at host: 127.0.0.1 on port: 6379\u001b[0m\n",
      "\u001b[32mINFO    \u001b[0m Connecting to Redis at host: 127.0.0.1 on port: 6379\u001b[0m\n"
     ]
    },
    {
     "name": "stdout",
     "output_type": "stream",
     "text": [
      "INFO:__main__:Connecting to Redis at host: 127.0.0.1 on port: 6379\n"
     ]
    },
    {
     "data": {
      "text/plain": [
       "True"
      ]
     },
     "execution_count": 6,
     "metadata": {},
     "output_type": "execute_result"
    }
   ],
   "source": [
    "r = connect_to_redis()\n",
    "r.ping()"
   ]
  },
  {
   "cell_type": "code",
   "execution_count": 34,
   "metadata": {},
   "outputs": [],
   "source": [
    "redis_client = r\n",
    "\n",
    "# ~~~ Redis Functions ~~~\n",
    "def write_userdata_to_redis(dict_key, dict_mapping):\n",
    "    logger.info(f\"Writing to redis: {dict_key} {dict_mapping}\")\n",
    "    redis_client.hset(dict_key, mapping=dict_mapping)\n",
    "\n",
    "\n",
    "def read_userdata_from_redis(dict_key):\n",
    "    value = redis_client.hgetall(dict_key)\n",
    "    logger.info(f\"reading from redis: {value}\")\n",
    "    return value if value else None\n"
   ]
  },
  {
   "cell_type": "code",
   "execution_count": 35,
   "metadata": {},
   "outputs": [
    {
     "name": "stderr",
     "output_type": "stream",
     "text": [
      "\u001b[32mINFO    \u001b[0m Writing to redis: user1 {'name': 'John', 'age': 25, 'city': 'New York'}\u001b[0m\n"
     ]
    },
    {
     "name": "stdout",
     "output_type": "stream",
     "text": [
      "INFO:__main__:Writing to redis: user1 {'name': 'John', 'age': 25, 'city': 'New York'}\n"
     ]
    }
   ],
   "source": [
    "write_userdata_to_redis(\"user1\", {\"name\": \"John\", \"age\": 25, \"city\": \"New York\"})"
   ]
  },
  {
   "cell_type": "code",
   "execution_count": 37,
   "metadata": {},
   "outputs": [
    {
     "name": "stderr",
     "output_type": "stream",
     "text": [
      "\u001b[32mINFO    \u001b[0m reading from redis: {'name': 'John', 'age': '25', 'city': 'New York'}\u001b[0m\n"
     ]
    },
    {
     "name": "stdout",
     "output_type": "stream",
     "text": [
      "INFO:__main__:reading from redis: {'name': 'John', 'age': '25', 'city': 'New York'}\n"
     ]
    },
    {
     "data": {
      "text/plain": [
       "{'name': 'John', 'age': '25', 'city': 'New York'}"
      ]
     },
     "execution_count": 37,
     "metadata": {},
     "output_type": "execute_result"
    }
   ],
   "source": [
    "coco = read_userdata_from_redis(\"user1\")\n",
    "coco"
   ]
  }
 ],
 "metadata": {
  "kernelspec": {
   "display_name": "langchain",
   "language": "python",
   "name": "python3"
  },
  "language_info": {
   "codemirror_mode": {
    "name": "ipython",
    "version": 3
   },
   "file_extension": ".py",
   "mimetype": "text/x-python",
   "name": "python",
   "nbconvert_exporter": "python",
   "pygments_lexer": "ipython3",
   "version": "3.11.8"
  }
 },
 "nbformat": 4,
 "nbformat_minor": 2
}
