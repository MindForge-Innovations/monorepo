{
 "cells": [
  {
   "cell_type": "code",
   "execution_count": 1,
   "metadata": {},
   "outputs": [],
   "source": [
    "import requests\n",
    "from pydantic import BaseModel\n",
    "from typing import Optional\n",
    "\n",
    "\n",
    "class SimilarAPIsRequest(BaseModel):\n",
    "    prompt: str\n",
    "    user_id: str\n",
    "    k: Optional[int] = 10\n",
    "\n",
    "class DocumentRequest(BaseModel):\n",
    "    id: str\n",
    "\n",
    "\n",
    "HOST = \"192.168.49.2\"\n",
    "PORT = 31791\n",
    "\n",
    "# HOST = \"127.0.0.1\"\n",
    "# PORT = 8080"
   ]
  },
  {
   "cell_type": "code",
   "execution_count": 2,
   "metadata": {},
   "outputs": [],
   "source": [
    "def test_get_similar_apis():\n",
    "    endpoint = f\"http://{HOST}:{PORT}/get_similar_apis\"\n",
    "\n",
    "    payload = SimilarAPIsRequest(prompt=\"I play sudoku and I want to read numbers\", user_id=\"test_user\", k=10)\n",
    "\n",
    "    return requests.post(endpoint, json=payload.model_dump())\n",
    "wow = test_get_similar_apis()"
   ]
  },
  {
   "cell_type": "code",
   "execution_count": 3,
   "metadata": {},
   "outputs": [
    {
     "data": {
      "text/plain": [
       "<Response [401]>"
      ]
     },
     "execution_count": 3,
     "metadata": {},
     "output_type": "execute_result"
    }
   ],
   "source": [
    "wow = test_get_similar_apis()\n",
    "wow"
   ]
  },
  {
   "cell_type": "code",
   "execution_count": 4,
   "metadata": {},
   "outputs": [
    {
     "ename": "KeyError",
     "evalue": "'documents'",
     "output_type": "error",
     "traceback": [
      "\u001b[0;31m---------------------------------------------------------------------------\u001b[0m",
      "\u001b[0;31mKeyError\u001b[0m                                  Traceback (most recent call last)",
      "Cell \u001b[0;32mIn[4], line 1\u001b[0m\n\u001b[0;32m----> 1\u001b[0m \u001b[43mwow\u001b[49m\u001b[38;5;241;43m.\u001b[39;49m\u001b[43mjson\u001b[49m\u001b[43m(\u001b[49m\u001b[43m)\u001b[49m\u001b[43m[\u001b[49m\u001b[38;5;124;43m'\u001b[39;49m\u001b[38;5;124;43mdocuments\u001b[39;49m\u001b[38;5;124;43m'\u001b[39;49m\u001b[43m]\u001b[49m[\u001b[38;5;241m0\u001b[39m]\n",
      "\u001b[0;31mKeyError\u001b[0m: 'documents'"
     ]
    }
   ],
   "source": [
    "wow.json()['documents'][0]"
   ]
  },
  {
   "cell_type": "code",
   "execution_count": 5,
   "metadata": {},
   "outputs": [
    {
     "data": {
      "text/plain": [
       "<Response [401]>"
      ]
     },
     "execution_count": 5,
     "metadata": {},
     "output_type": "execute_result"
    }
   ],
   "source": [
    "def test_get_status():\n",
    "    endpoint = f\"http://{HOST}:{PORT}/status\"\n",
    "\n",
    "\n",
    "    return requests.get(endpoint)\n",
    "test_get_status()"
   ]
  },
  {
   "cell_type": "code",
   "execution_count": 6,
   "metadata": {},
   "outputs": [
    {
     "data": {
      "text/plain": [
       "{'error': 'AuthorizationError', 'message': 'Unauthorized'}"
      ]
     },
     "execution_count": 6,
     "metadata": {},
     "output_type": "execute_result"
    }
   ],
   "source": [
    "wow = test_get_similar_apis()\n",
    "wow.json()"
   ]
  },
  {
   "cell_type": "markdown",
   "metadata": {},
   "source": [
    "**Connect to CHROMA in the cluster**"
   ]
  },
  {
   "cell_type": "code",
   "execution_count": 7,
   "metadata": {},
   "outputs": [],
   "source": [
    "import chromadb\n",
    "\n",
    "\n",
    "host = '192.168.49.2'\n",
    "port = 31791\n",
    "bearer_token = 'Hnq6GBxJlHfJEGoxrazxXdoG3aQ0gncP'\n",
    "chroma_client = chromadb.HttpClient(\n",
    "    host=host,\n",
    "    port=port,\n",
    "    headers={\"Authorization\": f\"Bearer {bearer_token}\"}\n",
    ")\n",
    "\n",
    "\n",
    "\n",
    "collection = chroma_client.get_collection(\"api_endpoints\")"
   ]
  },
  {
   "cell_type": "code",
   "execution_count": 8,
   "metadata": {},
   "outputs": [],
   "source": [
    "import joblib\n",
    "from openai import OpenAI\n",
    "import os\n",
    "\n",
    "from dotenv import load_dotenv, find_dotenv\n",
    "_ = load_dotenv(find_dotenv()) # read local .env file\n",
    "\n",
    "import warnings\n",
    "warnings.filterwarnings(\"ignore\")\n"
   ]
  },
  {
   "cell_type": "code",
   "execution_count": 9,
   "metadata": {},
   "outputs": [],
   "source": [
    "API_KEY = os.getenv(\"OPENAI_API_KEY\")"
   ]
  },
  {
   "cell_type": "code",
   "execution_count": 10,
   "metadata": {},
   "outputs": [
    {
     "ename": "NameError",
     "evalue": "name 'embedding' is not defined",
     "output_type": "error",
     "traceback": [
      "\u001b[0;31m---------------------------------------------------------------------------\u001b[0m",
      "\u001b[0;31mNameError\u001b[0m                                 Traceback (most recent call last)",
      "Cell \u001b[0;32mIn[10], line 16\u001b[0m\n\u001b[1;32m     14\u001b[0m     embedding \u001b[38;5;241m=\u001b[39m get_embedding(request)\n\u001b[1;32m     15\u001b[0m \u001b[38;5;28;01melse\u001b[39;00m:    \n\u001b[0;32m---> 16\u001b[0m     joblib\u001b[38;5;241m.\u001b[39mdump(\u001b[43membedding\u001b[49m, \u001b[38;5;124m\"\u001b[39m\u001b[38;5;124m../data/request_embedding.joblib\u001b[39m\u001b[38;5;124m\"\u001b[39m)\n\u001b[1;32m     17\u001b[0m     embedding \u001b[38;5;241m=\u001b[39m joblib\u001b[38;5;241m.\u001b[39mload(\u001b[38;5;124m\"\u001b[39m\u001b[38;5;124m../data/request_embedding.joblib\u001b[39m\u001b[38;5;124m\"\u001b[39m)\n\u001b[1;32m     19\u001b[0m results \u001b[38;5;241m=\u001b[39m collection\u001b[38;5;241m.\u001b[39mquery(query_embeddings \u001b[38;5;241m=\u001b[39m embedding)\n",
      "\u001b[0;31mNameError\u001b[0m: name 'embedding' is not defined"
     ]
    }
   ],
   "source": [
    "\n",
    "request = \"Je fais du sudoku et je dois détecter des nombres\"\n",
    "\n",
    "\n",
    "\n",
    "client = OpenAI(api_key=API_KEY)\n",
    "\n",
    "\n",
    "def get_embedding(text, model=\"text-embedding-3-small\"):\n",
    "   text = text.replace(\"\\n\", \" \")\n",
    "   return client.embeddings.create(input = [text], model=model).data[0].embedding\n",
    "\n",
    "REQUEST = False\n",
    "if REQUEST:\n",
    "    embedding = get_embedding(request)\n",
    "else:    \n",
    "    joblib.dump(embedding, \"../data/request_embedding.joblib\")\n",
    "    embedding = joblib.load(\"../data/request_embedding.joblib\")\n",
    "\n",
    "results = collection.query(query_embeddings = embedding)"
   ]
  },
  {
   "cell_type": "code",
   "execution_count": null,
   "metadata": {},
   "outputs": [
    {
     "data": {
      "text/plain": [
       "['348c4971-4f9d-4352-8ceb-e7f15ee5dd0a',\n",
       " '2ce73022-e17a-41c3-8ad6-59fe6833dc83',\n",
       " '74d3d802-5752-43eb-a440-2e918ba87da1',\n",
       " 'c83b0b3a-8c9e-45e3-8201-60c1784aac13',\n",
       " '5b0c7d03-3d70-4add-9b37-3b2954d67c0f',\n",
       " '1295cb27-da33-4a8c-b919-7e8768776c10',\n",
       " '87d1ecc9-0e46-4557-8add-b15c05cfae94',\n",
       " 'cb8f9d2f-01e4-4e0e-a4df-afb476c2248e',\n",
       " '76931b55-efe3-4ecd-a3d8-7e162fd7b8d9',\n",
       " '4aa2bc9e-050a-4832-b66f-0d7d0ef03d04']"
      ]
     },
     "execution_count": 51,
     "metadata": {},
     "output_type": "execute_result"
    }
   ],
   "source": [
    "results['ids'][0]"
   ]
  },
  {
   "cell_type": "code",
   "execution_count": null,
   "metadata": {},
   "outputs": [
    {
     "data": {
      "text/plain": [
       "{'ids': ['348c4971-4f9d-4352-8ceb-e7f15ee5dd0a'],\n",
       " 'embeddings': None,\n",
       " 'metadatas': [{'endpoint': '/compute',\n",
       "   'http_method': 'POST',\n",
       "   'openapi': '3.1.0',\n",
       "   'title': 'Digit Recognition API.',\n",
       "   'version': '1.0.0'}],\n",
       " 'documents': ['{\"API_Title\": \"Digit Recognition API.\", \"API_Description\": \" Recognizes a digit in an image using mnist trained model. \", \"API_Version\": \"1.0.0\", \"OpenAPI_Version\": \"3.1.0\", \"Route\": \"/compute\", \"Method\": \"POST\", \"Endpoint_Description\": \"Compute task\", \"Parameters\": {}, \"Tags\": [\"Tasks\"], \"Responses\": {\"200\": {\"description\": \"Successful Response\", \"content\": {\"application/json\": {\"schema\": {}}}}, \"422\": {\"description\": \"Validation Error\", \"content\": {\"application/json\": {\"schema\": {\"$ref\": \"#/components/schemas/HTTPValidationError\"}}}}}}'],\n",
       " 'data': None,\n",
       " 'uris': None}"
      ]
     },
     "execution_count": 52,
     "metadata": {},
     "output_type": "execute_result"
    }
   ],
   "source": [
    "collection.get(results['ids'][0][0])"
   ]
  },
  {
   "cell_type": "code",
   "execution_count": null,
   "metadata": {},
   "outputs": [
    {
     "data": {
      "text/plain": [
       "{'ids': [['348c4971-4f9d-4352-8ceb-e7f15ee5dd0a',\n",
       "   '2ce73022-e17a-41c3-8ad6-59fe6833dc83',\n",
       "   '74d3d802-5752-43eb-a440-2e918ba87da1']],\n",
       " 'distances': [[1.5292056029921062, 1.5532544915307023, 1.5935734512086184]],\n",
       " 'embeddings': None,\n",
       " 'metadatas': [[{'endpoint': '/compute',\n",
       "    'http_method': 'POST',\n",
       "    'openapi': '3.1.0',\n",
       "    'title': 'Digit Recognition API.',\n",
       "    'version': '1.0.0'},\n",
       "   {'endpoint': '/tasks/{task_id}/status',\n",
       "    'http_method': 'GET',\n",
       "    'openapi': '3.1.0',\n",
       "    'title': 'Digit Recognition API.',\n",
       "    'version': '1.0.0'},\n",
       "   {'endpoint': '/compute',\n",
       "    'http_method': 'POST',\n",
       "    'openapi': '3.1.0',\n",
       "    'title': 'NSFW Image Detection API.',\n",
       "    'version': '0.2.1'}]],\n",
       " 'documents': [['{\"API_Title\": \"Digit Recognition API.\", \"API_Description\": \" Recognizes a digit in an image using mnist trained model. \", \"API_Version\": \"1.0.0\", \"OpenAPI_Version\": \"3.1.0\", \"Route\": \"/compute\", \"Method\": \"POST\", \"Endpoint_Description\": \"Compute task\", \"Parameters\": {}, \"Tags\": [\"Tasks\"], \"Responses\": {\"200\": {\"description\": \"Successful Response\", \"content\": {\"application/json\": {\"schema\": {}}}}, \"422\": {\"description\": \"Validation Error\", \"content\": {\"application/json\": {\"schema\": {\"$ref\": \"#/components/schemas/HTTPValidationError\"}}}}}}',\n",
       "   '{\"API_Title\": \"Digit Recognition API.\", \"API_Description\": \" Recognizes a digit in an image using mnist trained model. \", \"API_Version\": \"1.0.0\", \"OpenAPI_Version\": \"3.1.0\", \"Route\": \"/tasks/{task_id}/status\", \"Method\": \"GET\", \"Endpoint_Description\": \"Get task status\", \"Parameters\": {\"task_id\": {\"name\": \"task_id\", \"in\": \"path\", \"required\": true, \"schema\": {\"type\": \"string\", \"format\": \"uuid\", \"title\": \"Task Id\"}}}, \"Tags\": [\"Tasks\"], \"Responses\": {\"200\": {\"description\": \"Successful Response\", \"content\": {\"application/json\": {\"schema\": {}}}}, \"422\": {\"description\": \"Validation Error\", \"content\": {\"application/json\": {\"schema\": {\"$ref\": \"#/components/schemas/HTTPValidationError\"}}}}}}',\n",
       "   '{\"API_Title\": \"NSFW Image Detection API.\", \"API_Description\": \" Detects between two main categories : \\'nsfw\\' and \\'safe\\', and detects the following sub-categories: \\'nsfw_cartoon\\', \\'nsfw_nudity\\', \\'nsfw_porn\\', \\'nsfw_suggestive\\', \\'safe_cartoon\\', \\'safe_general\\', \\'safe_person\\' \", \"API_Version\": \"0.2.1\", \"OpenAPI_Version\": \"3.1.0\", \"Route\": \"/compute\", \"Method\": \"POST\", \"Endpoint_Description\": \"Compute task\", \"Parameters\": {}, \"Tags\": [\"Tasks\"], \"Responses\": {\"200\": {\"description\": \"Successful Response\", \"content\": {\"application/json\": {\"schema\": {}}}}, \"422\": {\"description\": \"Validation Error\", \"content\": {\"application/json\": {\"schema\": {\"$ref\": \"#/components/schemas/HTTPValidationError\"}}}}}}']],\n",
       " 'uris': None,\n",
       " 'data': None}"
      ]
     },
     "execution_count": 55,
     "metadata": {},
     "output_type": "execute_result"
    }
   ],
   "source": [
    "collection.query(query_embeddings = embedding, n_results=3)"
   ]
  }
 ],
 "metadata": {
  "kernelspec": {
   "display_name": "langchain",
   "language": "python",
   "name": "python3"
  },
  "language_info": {
   "codemirror_mode": {
    "name": "ipython",
    "version": 3
   },
   "file_extension": ".py",
   "mimetype": "text/x-python",
   "name": "python",
   "nbconvert_exporter": "python",
   "pygments_lexer": "ipython3",
   "version": "3.11.8"
  }
 },
 "nbformat": 4,
 "nbformat_minor": 2
}
