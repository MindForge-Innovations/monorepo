{
 "cells": [
  {
   "cell_type": "code",
   "execution_count": 1,
   "metadata": {},
   "outputs": [],
   "source": [
    "import sys\n",
    "sys.path.append('../')  # Ajustez le chemin selon la structure de votre dossier\n"
   ]
  },
  {
   "cell_type": "code",
   "execution_count": 2,
   "metadata": {},
   "outputs": [],
   "source": [
    "from dataclasses import dataclass\n",
    "from omegaconf import DictConfig\n",
    "\n",
    "from lightning.pytorch import Trainer\n",
    "from lightning.pytorch.loggers import MLFlowLogger\n",
    "\n",
    "from src.models.object_detector import FasterRCNNModule\n",
    "from src.data.data_module import GrotiusDataModule\n",
    "from src.callbacks.mlflow_callback import MLFlowModelRegistryCallback"
   ]
  },
  {
   "cell_type": "code",
   "execution_count": 3,
   "metadata": {},
   "outputs": [],
   "source": [
    "# ~~~ Configuration ~~~\n",
    "@dataclass\n",
    "class Config:\n",
    "    data_dir: str = (\n",
    "        \"/home/olivier/projet/pi/monorepo/doc-analyzer/model-experiment/data\"\n",
    "    )\n",
    "    batch_size: int = 2\n",
    "    num_workers: int = 4\n",
    "    shuffle: bool = True\n",
    "    weights: str = \"FasterRCNN_ResNet50_FPN_V2_Weights.DEFAULT\"\n",
    "    dataset_files = (\"CRH.yaml\", \"fasterRCNN_v2.yaml\")\n",
    "    experiment_name: str = \"doc-analyzer-v1.0\"\n",
    "    logger_uri: str = \"file:./mlruns\"\n",
    "    max_epochs: int = 1\n",
    "\n",
    "config = Config()"
   ]
  },
  {
   "cell_type": "code",
   "execution_count": 4,
   "metadata": {},
   "outputs": [
    {
     "name": "stdout",
     "output_type": "stream",
     "text": [
      "loading annotations into memory...\n",
      "Done (t=0.01s)\n",
      "creating index...\n",
      "index created!\n"
     ]
    }
   ],
   "source": [
    "# ~~~ Data Preparation ~~~\n",
    "data_module = GrotiusDataModule(\n",
    "    config.data_dir, config.batch_size, config.num_workers, config.shuffle\n",
    ")\n",
    "data_module.setup()"
   ]
  },
  {
   "cell_type": "code",
   "execution_count": 5,
   "metadata": {},
   "outputs": [],
   "source": [
    "# ~~~ Model Initialization ~~~\n",
    "model = FasterRCNNModule(config.weights)"
   ]
  },
  {
   "cell_type": "code",
   "execution_count": 6,
   "metadata": {},
   "outputs": [],
   "source": [
    "# ~~~ Logger ~~~\n",
    "mlf_logger = MLFlowLogger(\n",
    "    experiment_name=config.experiment_name,\n",
    "    tracking_uri=config.logger_uri,\n",
    "    log_model=True,\n",
    ")"
   ]
  },
  {
   "cell_type": "code",
   "execution_count": 7,
   "metadata": {},
   "outputs": [
    {
     "name": "stderr",
     "output_type": "stream",
     "text": [
      "GPU available: True (cuda), used: True\n",
      "TPU available: False, using: 0 TPU cores\n",
      "IPU available: False, using: 0 IPUs\n",
      "HPU available: False, using: 0 HPUs\n",
      "LOCAL_RANK: 0 - CUDA_VISIBLE_DEVICES: [0]\n",
      "\n",
      "  | Name  | Type                  | Params\n",
      "------------------------------------------------\n",
      "0 | model | FasterRCNN            | 43.3 M\n",
      "1 | iou   | IntersectionOverUnion | 0     \n",
      "------------------------------------------------\n",
      "43.0 M    Trainable params\n",
      "225 K     Non-trainable params\n",
      "43.3 M    Total params\n",
      "173.066   Total estimated model params size (MB)\n"
     ]
    },
    {
     "name": "stdout",
     "output_type": "stream",
     "text": [
      "loading annotations into memory...\n",
      "Done (t=0.01s)\n",
      "creating index...\n",
      "index created!\n",
      "Epoch 0: 100%|██████████| 64/64 [00:41<00:00,  1.54it/s, v_num=ad36, train_loss_step=0.744, val_loss_step=0.878, val_loss_epoch=0.802, train_loss_epoch=1.240]"
     ]
    },
    {
     "name": "stderr",
     "output_type": "stream",
     "text": [
      "`Trainer.fit` stopped: `max_epochs=1` reached.\n",
      "2024/05/05 15:59:18 WARNING mlflow.utils.environment: Encountered an unexpected error while inferring pip requirements (model URI: /tmp/tmp6fkg6ore/model/data, flavor: pytorch). Fall back to return ['torch==2.2.1', 'cloudpickle==3.0.0']. Set logging level to DEBUG to see the full traceback. \n"
     ]
    },
    {
     "name": "stdout",
     "output_type": "stream",
     "text": [
      "Model doc-analyzer-v1.0 version 4 created in MLFlow Model Registry.\n",
      "Epoch 0: 100%|██████████| 64/64 [00:46<00:00,  1.38it/s, v_num=ad36, train_loss_step=0.744, val_loss_step=0.878, val_loss_epoch=0.802, train_loss_epoch=1.240]\n"
     ]
    }
   ],
   "source": [
    "\n",
    "# ~~~ Training ~~~\n",
    "trainer = Trainer(\n",
    "    limit_train_batches=100,\n",
    "    max_epochs=config.max_epochs,\n",
    "    logger=mlf_logger,\n",
    "    fast_dev_run=False,\n",
    "    callbacks=[MLFlowModelRegistryCallback(config.experiment_name)],\n",
    ")\n",
    "trainer.fit(\n",
    "    model,\n",
    "    train_dataloaders=data_module,\n",
    ")"
   ]
  },
  {
   "cell_type": "code",
   "execution_count": 8,
   "metadata": {},
   "outputs": [
    {
     "name": "stderr",
     "output_type": "stream",
     "text": [
      "LOCAL_RANK: 0 - CUDA_VISIBLE_DEVICES: [0]\n"
     ]
    },
    {
     "name": "stdout",
     "output_type": "stream",
     "text": [
      "loading annotations into memory...\n",
      "Done (t=0.01s)\n",
      "creating index...\n",
      "index created!\n",
      "Testing DataLoader 0: 100%|██████████| 21/21 [00:04<00:00,  5.01it/s]\n",
      "────────────────────────────────────────────────────────────────────────────────────────────────────────────────────────\n",
      "       Test metric             DataLoader 0\n",
      "────────────────────────────────────────────────────────────────────────────────────────────────────────────────────────\n",
      "           iou              0.03561413660645485\n",
      "────────────────────────────────────────────────────────────────────────────────────────────────────────────────────────\n"
     ]
    },
    {
     "data": {
      "text/plain": [
       "[{'iou': 0.03561413660645485}]"
      ]
     },
     "execution_count": 8,
     "metadata": {},
     "output_type": "execute_result"
    }
   ],
   "source": [
    "trainer.test(model, datamodule=data_module)"
   ]
  }
 ],
 "metadata": {
  "kernelspec": {
   "display_name": "pytorch",
   "language": "python",
   "name": "python3"
  },
  "language_info": {
   "codemirror_mode": {
    "name": "ipython",
    "version": 3
   },
   "file_extension": ".py",
   "mimetype": "text/x-python",
   "name": "python",
   "nbconvert_exporter": "python",
   "pygments_lexer": "ipython3",
   "version": "3.12.2"
  }
 },
 "nbformat": 4,
 "nbformat_minor": 2
}
